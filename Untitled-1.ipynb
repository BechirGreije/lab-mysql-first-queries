{
 "cells": [
  {
   "cell_type": "code",
   "execution_count": 2,
   "metadata": {},
   "outputs": [],
   "source": [
    "'''\n",
    "Baby shark, doo doo doo doo doo doo\n",
    "Baby shark, doo doo doo doo doo doo\n",
    "Baby shark, doo doo doo doo doo doo\n",
    "Baby shark!\n",
    "Mommy shark, doo doo doo doo doo doo\n",
    "Mommy shark, doo doo doo doo doo doo\n",
    "Mommy shark, doo doo doo doo doo doo\n",
    "Mommy shark!\n",
    "Daddy shark, doo doo doo doo doo doo\n",
    "Daddy shark, doo doo doo doo doo doo\n",
    "Daddy shark, doo doo doo doo doo doo\n",
    "Daddy shark!\n",
    "Grandma shark, doo doo doo doo doo doo\n",
    "Grandma shark, doo doo doo doo doo doo\n",
    "Grandma shark, doo doo doo doo doo doo\n",
    "Grandma shark!\n",
    "Grandpa shark, doo doo doo doo doo doo\n",
    "Grandpa shark, doo doo doo doo doo doo\n",
    "Grandpa shark, doo doo doo doo doo doo\n",
    "Grandpa shark!\n",
    "Let's go hunt, doo doo doo doo doo doo\n",
    "Let's go hunt, doo doo doo doo doo doo\n",
    "Let's go hunt, doo doo doo doo doo doo\n",
    "Let's go hunt!\n",
    "Run away,…\n",
    "'''\n",
    "c='''a=['Baby shark','Mommy shark','Daddy shark','Grandma shark',\"Let's go hunt\"]\n",
    "for i in range(7):\n",
    "    for j in range(3):\n",
    "        print(a[i]+\",\",\"doo \"*6)\n",
    "    print(a[i]+\"!\")\n",
    "print('Run away,…') '''\n"
   ]
  },
  {
   "cell_type": "code",
   "execution_count": 1,
   "metadata": {},
   "outputs": [
    {
     "name": "stdout",
     "output_type": "stream",
     "text": [
      "Baby shark, doo doo doo doo doo doo \n",
      "Baby shark, doo doo doo doo doo doo \n",
      "Baby shark, doo doo doo doo doo doo \n",
      "Baby shark!\n",
      "Mommy shark, doo doo doo doo doo doo \n",
      "Mommy shark, doo doo doo doo doo doo \n",
      "Mommy shark, doo doo doo doo doo doo \n",
      "Mommy shark!\n",
      "Daddy shark, doo doo doo doo doo doo \n",
      "Daddy shark, doo doo doo doo doo doo \n",
      "Daddy shark, doo doo doo doo doo doo \n",
      "Daddy shark!\n",
      "Grandma shark, doo doo doo doo doo doo \n",
      "Grandma shark, doo doo doo doo doo doo \n",
      "Grandma shark, doo doo doo doo doo doo \n",
      "Grandma shark!\n",
      "Let's go hunt, doo doo doo doo doo doo \n",
      "Let's go hunt, doo doo doo doo doo doo \n",
      "Let's go hunt, doo doo doo doo doo doo \n",
      "Let's go hunt!\n",
      "Run away,…\n"
     ]
    }
   ],
   "source": [
    "def baby_shark_lyrics():\n",
    "    b=[]\n",
    "    a=['Baby shark','Mommy shark','Daddy shark','Grandma shark',\"Let's go hunt\"]\n",
    "    for i in range(5):\n",
    "        for j in range(3):\n",
    "            b.append(a[i]+', '+'doo '*6)\n",
    "        b.append(a[i]+'!')\n",
    "    b.append('Run away,…')\n",
    "    return print(\"\\n\".join(b))\n",
    "baby_shark_lyrics()"
   ]
  },
  {
   "cell_type": "code",
   "execution_count": 31,
   "metadata": {},
   "outputs": [
    {
     "name": "stdout",
     "output_type": "stream",
     "text": [
      "Baby shark, doo doo doo doo doo doo \n",
      "Baby shark, doo doo doo doo doo doo \n",
      "Baby shark, doo doo doo doo doo doo \n",
      "Baby shark!\n",
      "Mommy shark, doo doo doo doo doo doo \n",
      "Mommy shark, doo doo doo doo doo doo \n",
      "Mommy shark, doo doo doo doo doo doo \n",
      "Mommy shark!\n",
      "Daddy shark, doo doo doo doo doo doo \n",
      "Daddy shark, doo doo doo doo doo doo \n",
      "Daddy shark, doo doo doo doo doo doo \n",
      "Daddy shark!\n",
      "Grandma shark, doo doo doo doo doo doo \n",
      "Grandma shark, doo doo doo doo doo doo \n",
      "Grandma shark, doo doo doo doo doo doo \n",
      "Grandma shark!\n",
      "Let's go hunt, doo doo doo doo doo doo \n",
      "Let's go hunt, doo doo doo doo doo doo \n",
      "Let's go hunt, doo doo doo doo doo doo \n",
      "Let's go hunt!\n",
      "Run away,…\n"
     ]
    }
   ],
   "source": [
    "    b=[]\n",
    "    a=['Baby shark','Mommy shark','Daddy shark','Grandma shark',\"Let's go hunt\"]\n",
    "    for i in range(5):\n",
    "        for j in range(3):\n",
    "            b.append(a[i]+', '+'doo '*6)\n",
    "        b.append(a[i]+'!')\n",
    "    b.append('Run away,…')\n",
    "    print(\"\\n\".join(b))"
   ]
  },
  {
   "cell_type": "code",
   "execution_count": null,
   "metadata": {},
   "outputs": [],
   "source": []
  }
 ],
 "metadata": {
  "kernelspec": {
   "display_name": "Python 3.9.13 ('julyiron')",
   "language": "python",
   "name": "python3"
  },
  "language_info": {
   "codemirror_mode": {
    "name": "ipython",
    "version": 3
   },
   "file_extension": ".py",
   "mimetype": "text/x-python",
   "name": "python",
   "nbconvert_exporter": "python",
   "pygments_lexer": "ipython3",
   "version": "3.9.13"
  },
  "orig_nbformat": 4,
  "vscode": {
   "interpreter": {
    "hash": "a462c9424ba5386811a6ac56e6a070cb1849ca665284423aba7c9a9f9b78271d"
   }
  }
 },
 "nbformat": 4,
 "nbformat_minor": 2
}
